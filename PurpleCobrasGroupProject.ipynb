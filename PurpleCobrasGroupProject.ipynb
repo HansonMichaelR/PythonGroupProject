{
 "cells": [
  {
   "cell_type": "markdown",
   "metadata": {},
   "source": [
    "# Purple Cobras Python Group Project - Des Moines Housing Prices"
   ]
  },
  {
   "cell_type": "markdown",
   "metadata": {},
   "source": [
    "## Team Members\n",
    "- Nicole Litchkey\n",
    "- Brandy Graham\n",
    "- Michael Hanson"
   ]
  },
  {
   "cell_type": "markdown",
   "metadata": {},
   "source": [
    "## Problem\n",
    "How can you tell if the Des Moines house you are interested in purchasing is being sold at a fair and reasonble price? "
   ]
  },
  {
   "cell_type": "markdown",
   "metadata": {},
   "source": [
    "## Goal\n",
    "Our goal is to create a python model/app where a user provides housing information (such as the house's quality rating, square feet of finished space, neighborhood it is located in, materials used to build it, etc.) to our model. The model will then predict what the house should most likely be priced at. The user should then be able to determine whether the house they are attempting to purchase is at a marketable price. "
   ]
  },
  {
   "cell_type": "markdown",
   "metadata": {},
   "source": [
    "## Data\n",
    "Data will be taken from the Polk County Assessor website: http://www.assess.co.polk.ia.us/web/exports/res/sales/2019/DM.txt\n",
    "We will be using the 2019 dataset so that we are building a model on the most recent housing price trends. We want this model to reflect the current housing market and not be affected by previous years housing sales."
   ]
  },
  {
   "cell_type": "code",
   "execution_count": null,
   "metadata": {},
   "outputs": [],
   "source": [
    "!pip install httplib2"
   ]
  },
  {
   "cell_type": "code",
   "execution_count": null,
   "metadata": {},
   "outputs": [],
   "source": [
    "#We will use the urllib module to pull the txt file from the polk county assessor website\n",
    "import urllib.request\n",
    "...\n",
    "url = 'http://www.assess.co.polk.ia.us/web/exports/res/sales/2019/DM.txt'\n",
    "response = urllib.request.urlopen(url)\n",
    "data = response.read()\n",
    "text = data.decode('utf-8') \n",
    "print(text)"
   ]
  }
 ],
 "metadata": {
  "kernelspec": {
   "display_name": "Python 3",
   "language": "python",
   "name": "python3"
  },
  "language_info": {
   "codemirror_mode": {
    "name": "ipython",
    "version": 3
   },
   "file_extension": ".py",
   "mimetype": "text/x-python",
   "name": "python",
   "nbconvert_exporter": "python",
   "pygments_lexer": "ipython3",
   "version": "3.7.3"
  }
 },
 "nbformat": 4,
 "nbformat_minor": 2
}
